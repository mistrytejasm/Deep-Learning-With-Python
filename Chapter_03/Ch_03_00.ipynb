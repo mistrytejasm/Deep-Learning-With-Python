{
 "cells": [
  {
   "cell_type": "markdown",
   "id": "fd1852e9",
   "metadata": {},
   "source": [
    "# Chapter 3. Introduction to Keras and TensorFlow"
   ]
  },
  {
   "cell_type": "markdown",
   "id": "08e7ea6b",
   "metadata": {},
   "source": [
    "# Listing 3.1 All-ones or all-zeros tensors"
   ]
  },
  {
   "cell_type": "code",
   "execution_count": 1,
   "id": "b928a4c4",
   "metadata": {},
   "outputs": [],
   "source": [
    "import tensorflow as tf"
   ]
  },
  {
   "cell_type": "code",
   "execution_count": 2,
   "id": "de5ded61",
   "metadata": {},
   "outputs": [
    {
     "name": "stdout",
     "output_type": "stream",
     "text": [
      "tf.Tensor(\n",
      "[[1.]\n",
      " [1.]], shape=(2, 1), dtype=float32)\n"
     ]
    }
   ],
   "source": [
    "x = tf.ones(shape=(2,1))\n",
    "print(x)"
   ]
  },
  {
   "cell_type": "code",
   "execution_count": 3,
   "id": "56165894",
   "metadata": {},
   "outputs": [
    {
     "name": "stdout",
     "output_type": "stream",
     "text": [
      "tf.Tensor(\n",
      "[[0.]\n",
      " [0.]], shape=(2, 1), dtype=float32)\n"
     ]
    }
   ],
   "source": [
    "x = tf.zeros(shape=(2,1))\n",
    "print(x)"
   ]
  },
  {
   "cell_type": "markdown",
   "id": "f55d331a",
   "metadata": {},
   "source": [
    "# Listing 3.2 Random tensors"
   ]
  },
  {
   "cell_type": "markdown",
   "id": "719a49e7",
   "metadata": {},
   "source": [
    "Tensor of random values drawn from a normal distribution\n",
    "with mean 0 and standard deviation 1. Equivalent to\n",
    "np.random.normal(size=(3, 1), loc=0., scale=1.)."
   ]
  },
  {
   "cell_type": "code",
   "execution_count": 4,
   "id": "3440943e",
   "metadata": {},
   "outputs": [
    {
     "name": "stdout",
     "output_type": "stream",
     "text": [
      "tf.Tensor(\n",
      "[[ 0.10469258]\n",
      " [-0.67587024]\n",
      " [ 0.83383787]], shape=(3, 1), dtype=float32)\n"
     ]
    }
   ],
   "source": [
    "x = tf.random.normal(shape=(3,1), mean=0, stddev=1.)\n",
    "print(x)"
   ]
  },
  {
   "cell_type": "markdown",
   "id": "17200b0d",
   "metadata": {},
   "source": [
    "Tensor of random values drawn from a uniform distribution between 0\n",
    "and 1. Equivalent to np.random.uniform(size=(3, 1), low=0., high=1.)."
   ]
  },
  {
   "cell_type": "code",
   "execution_count": 5,
   "id": "b891ac22",
   "metadata": {},
   "outputs": [
    {
     "name": "stdout",
     "output_type": "stream",
     "text": [
      "tf.Tensor(\n",
      "[[0.29683542]\n",
      " [0.84059393]\n",
      " [0.38801098]], shape=(3, 1), dtype=float32)\n"
     ]
    }
   ],
   "source": [
    "x = tf.random.uniform(shape=(3,1), minval=0., maxval=1.)\n",
    "print(x)"
   ]
  },
  {
   "cell_type": "markdown",
   "id": "090f80e3",
   "metadata": {},
   "source": [
    "A significant difference between NumPy arrays and TensorFlow tensors is that Tensor-\n",
    "Flow tensors aren’t assignable: they’re constant. For instance, in NumPy, you can do\n",
    "the following."
   ]
  },
  {
   "cell_type": "markdown",
   "id": "8e3d02a8",
   "metadata": {},
   "source": [
    "#### Listing 3.3 NumPy arrays are assignable"
   ]
  },
  {
   "cell_type": "code",
   "execution_count": 10,
   "id": "98047944",
   "metadata": {},
   "outputs": [
    {
     "name": "stdout",
     "output_type": "stream",
     "text": [
      "[[1. 1.]\n",
      " [1. 1.]]\n",
      "[[0. 1.]\n",
      " [1. 1.]]\n"
     ]
    }
   ],
   "source": [
    "import numpy as np\n",
    "\n",
    "x = np.ones(shape=(2,2))\n",
    "print(x)\n",
    "\n",
    "x[0,0] = 0\n",
    "print(x)"
   ]
  },
  {
   "cell_type": "markdown",
   "id": "133999e0",
   "metadata": {},
   "source": [
    "Try to do the same thing in TensorFlow, and you will get an error: “EagerTensor object\n",
    "does not support item assignment.”"
   ]
  },
  {
   "cell_type": "markdown",
   "id": "f93ec3ff",
   "metadata": {},
   "source": [
    "#### Listing 3.4 TensorFlow tensors are not assignable"
   ]
  },
  {
   "cell_type": "code",
   "execution_count": null,
   "id": "f2125517",
   "metadata": {},
   "outputs": [
    {
     "ename": "TypeError",
     "evalue": "'tensorflow.python.framework.ops.EagerTensor' object does not support item assignment",
     "output_type": "error",
     "traceback": [
      "\u001b[1;31m---------------------------------------------------------------------------\u001b[0m",
      "\u001b[1;31mTypeError\u001b[0m                                 Traceback (most recent call last)",
      "Cell \u001b[1;32mIn[12], line 2\u001b[0m\n\u001b[0;32m      1\u001b[0m x \u001b[38;5;241m=\u001b[39m tf\u001b[38;5;241m.\u001b[39mones(shape\u001b[38;5;241m=\u001b[39m(\u001b[38;5;241m2\u001b[39m,\u001b[38;5;241m2\u001b[39m))\n\u001b[1;32m----> 2\u001b[0m \u001b[43mx\u001b[49m\u001b[43m[\u001b[49m\u001b[38;5;241;43m0\u001b[39;49m\u001b[43m,\u001b[49m\u001b[43m \u001b[49m\u001b[38;5;241;43m0\u001b[39;49m\u001b[43m]\u001b[49m \u001b[38;5;241m=\u001b[39m \u001b[38;5;241m0.\u001b[39m\n",
      "\u001b[1;31mTypeError\u001b[0m: 'tensorflow.python.framework.ops.EagerTensor' object does not support item assignment"
     ]
    }
   ],
   "source": [
    "x = tf.ones(shape=(2,2))\n",
    "x[0, 0] = 0.  # This will fail, as a tensor isn’t assignable"
   ]
  },
  {
   "cell_type": "markdown",
   "id": "eba413b1",
   "metadata": {},
   "source": [
    "Note:  To train a model, we’ll need to update its state, which is a set of tensors. If tensors\n",
    "aren’t assignable, how do we do it? That’s where variables come in. tf.Variable is the\n",
    "class meant to manage modifiable state in TensorFlow."
   ]
  },
  {
   "cell_type": "markdown",
   "id": "21157afc",
   "metadata": {},
   "source": [
    "#### Listing 3.5 Creating a TensorFlow variable"
   ]
  },
  {
   "cell_type": "code",
   "execution_count": 13,
   "id": "9b9122b7",
   "metadata": {},
   "outputs": [
    {
     "name": "stdout",
     "output_type": "stream",
     "text": [
      "<tf.Variable 'Variable:0' shape=(3, 1) dtype=float32, numpy=\n",
      "array([[ 0.61630297],\n",
      "       [-0.5659959 ],\n",
      "       [ 0.02636   ]], dtype=float32)>\n"
     ]
    }
   ],
   "source": [
    "v = tf.Variable(initial_value=tf.random.normal(shape=(3,1)))\n",
    "print(v)"
   ]
  },
  {
   "cell_type": "markdown",
   "id": "8986f885",
   "metadata": {},
   "source": [
    "The state of a variable can be modified via its assign method, as follows."
   ]
  },
  {
   "cell_type": "markdown",
   "id": "e1a7e2dc",
   "metadata": {},
   "source": [
    "#### Listing 3.6 Assigning a value to a TensorFlow variable"
   ]
  },
  {
   "cell_type": "code",
   "execution_count": 16,
   "id": "b4751c3b",
   "metadata": {},
   "outputs": [
    {
     "data": {
      "text/plain": [
       "<tf.Variable 'UnreadVariable' shape=(3, 1) dtype=float32, numpy=\n",
       "array([[1.],\n",
       "       [1.],\n",
       "       [1.]], dtype=float32)>"
      ]
     },
     "execution_count": 16,
     "metadata": {},
     "output_type": "execute_result"
    }
   ],
   "source": [
    "v.assign(tf.ones((3,1))) # It also works for a subset of the coefficients"
   ]
  },
  {
   "cell_type": "markdown",
   "id": "0214102c",
   "metadata": {},
   "source": [
    "#### Listing 3.7 Assigning a value to a subset of a TensorFlow variable"
   ]
  },
  {
   "cell_type": "code",
   "execution_count": 17,
   "id": "bab4d9be",
   "metadata": {},
   "outputs": [
    {
     "data": {
      "text/plain": [
       "<tf.Variable 'UnreadVariable' shape=(3, 1) dtype=float32, numpy=\n",
       "array([[3.],\n",
       "       [1.],\n",
       "       [1.]], dtype=float32)>"
      ]
     },
     "execution_count": 17,
     "metadata": {},
     "output_type": "execute_result"
    }
   ],
   "source": [
    "v[0,0].assign(3.)"
   ]
  },
  {
   "cell_type": "markdown",
   "id": "500b7611",
   "metadata": {},
   "source": [
    "Similarly, assign_add() and assign_sub() are efficient equivalents of += and -=, as\n",
    "shown next."
   ]
  },
  {
   "cell_type": "markdown",
   "id": "4c6ad39f",
   "metadata": {},
   "source": [
    "#### Listing 3.8 Using assign_add() "
   ]
  },
  {
   "cell_type": "code",
   "execution_count": 18,
   "id": "d49337ab",
   "metadata": {},
   "outputs": [
    {
     "data": {
      "text/plain": [
       "<tf.Variable 'UnreadVariable' shape=(3, 1) dtype=float32, numpy=\n",
       "array([[4.],\n",
       "       [2.],\n",
       "       [2.]], dtype=float32)>"
      ]
     },
     "execution_count": 18,
     "metadata": {},
     "output_type": "execute_result"
    }
   ],
   "source": [
    "v.assign_add(tf.ones((3,1)))\n"
   ]
  },
  {
   "cell_type": "markdown",
   "id": "e22d6a6b",
   "metadata": {},
   "source": [
    "# 3.5.2 Tensor operations: Doing math in TensorFlow"
   ]
  },
  {
   "cell_type": "markdown",
   "id": "240ae19f",
   "metadata": {},
   "source": [
    "Just like NumPy, TensorFlow offers a large collection of tensor operations to express\n",
    "mathematical formulas."
   ]
  },
  {
   "cell_type": "markdown",
   "id": "78fe1df3",
   "metadata": {},
   "source": [
    "#### Listing 3.9 A few basic math operations"
   ]
  },
  {
   "cell_type": "markdown",
   "id": "f738bc9b",
   "metadata": {},
   "source": [
    "Importantly, each of the preceding operations gets executed on the fly: at any point,\n",
    "you can print what the current result is, just like in NumPy. We call this eager execution."
   ]
  },
  {
   "cell_type": "code",
   "execution_count": 21,
   "id": "0678dfd8",
   "metadata": {},
   "outputs": [],
   "source": [
    "a = tf.ones((2,2))\n",
    "b = tf.square(a)\n",
    "c = tf.sqrt(a)\n",
    "d = b + c\n",
    "e = tf.matmul(a, b)\n",
    "e *= d"
   ]
  },
  {
   "cell_type": "code",
   "execution_count": 22,
   "id": "adfa9c2d",
   "metadata": {},
   "outputs": [
    {
     "name": "stdout",
     "output_type": "stream",
     "text": [
      "tf.Tensor(\n",
      "[[1. 1.]\n",
      " [1. 1.]], shape=(2, 2), dtype=float32)\n"
     ]
    }
   ],
   "source": [
    "print(a)"
   ]
  },
  {
   "cell_type": "code",
   "execution_count": 23,
   "id": "78555acf",
   "metadata": {},
   "outputs": [
    {
     "name": "stdout",
     "output_type": "stream",
     "text": [
      "tf.Tensor(\n",
      "[[1. 1.]\n",
      " [1. 1.]], shape=(2, 2), dtype=float32)\n"
     ]
    }
   ],
   "source": [
    "print(b)"
   ]
  },
  {
   "cell_type": "code",
   "execution_count": 25,
   "id": "7c41e2ac",
   "metadata": {},
   "outputs": [
    {
     "name": "stdout",
     "output_type": "stream",
     "text": [
      "tf.Tensor(\n",
      "[[1. 1.]\n",
      " [1. 1.]], shape=(2, 2), dtype=float32)\n"
     ]
    }
   ],
   "source": [
    "print(c)"
   ]
  },
  {
   "cell_type": "code",
   "execution_count": 26,
   "id": "062989b2",
   "metadata": {},
   "outputs": [
    {
     "name": "stdout",
     "output_type": "stream",
     "text": [
      "tf.Tensor(\n",
      "[[2. 2.]\n",
      " [2. 2.]], shape=(2, 2), dtype=float32)\n"
     ]
    }
   ],
   "source": [
    "print(d)"
   ]
  },
  {
   "cell_type": "code",
   "execution_count": 27,
   "id": "2e8a4c8a",
   "metadata": {},
   "outputs": [
    {
     "name": "stdout",
     "output_type": "stream",
     "text": [
      "tf.Tensor(\n",
      "[[4. 4.]\n",
      " [4. 4.]], shape=(2, 2), dtype=float32)\n"
     ]
    }
   ],
   "source": [
    "print(e)"
   ]
  },
  {
   "cell_type": "markdown",
   "id": "fad7132a",
   "metadata": {},
   "source": [
    "# 3.5.4 An end-to-end example: A linear classifier in pure TensorFlow"
   ]
  },
  {
   "cell_type": "code",
   "execution_count": null,
   "id": "6cca8b3c",
   "metadata": {},
   "outputs": [],
   "source": []
  }
 ],
 "metadata": {
  "kernelspec": {
   "display_name": ".venv",
   "language": "python",
   "name": "python3"
  },
  "language_info": {
   "codemirror_mode": {
    "name": "ipython",
    "version": 3
   },
   "file_extension": ".py",
   "mimetype": "text/x-python",
   "name": "python",
   "nbconvert_exporter": "python",
   "pygments_lexer": "ipython3",
   "version": "3.10.0"
  }
 },
 "nbformat": 4,
 "nbformat_minor": 5
}
